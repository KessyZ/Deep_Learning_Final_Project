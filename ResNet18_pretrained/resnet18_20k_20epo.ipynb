version https://git-lfs.github.com/spec/v1
oid sha256:97398c048705473ef5c8277ab977295c4dd9d084d3e47b15fb321aa0f76b21b1
size 59132
