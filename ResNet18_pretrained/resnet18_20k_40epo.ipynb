version https://git-lfs.github.com/spec/v1
oid sha256:a11e8eae2e7f78c12c17ca1dd5d53cccb69ca2d112628a774cadb4f5294329ac
size 61782527
