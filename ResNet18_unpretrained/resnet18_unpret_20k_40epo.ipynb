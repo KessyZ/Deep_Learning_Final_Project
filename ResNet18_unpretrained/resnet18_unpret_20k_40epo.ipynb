version https://git-lfs.github.com/spec/v1
oid sha256:ff92f31b3d9a4fa9c4823697cb80e0b0e72e243383de3512b2a6f1d856067ca3
size 120770200
