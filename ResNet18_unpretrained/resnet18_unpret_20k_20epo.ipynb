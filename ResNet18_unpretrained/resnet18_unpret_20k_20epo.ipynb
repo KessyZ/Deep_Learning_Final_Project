version https://git-lfs.github.com/spec/v1
oid sha256:c9770ca7b61e3f976530607b0ced095ab2bf7f4094436a40f164f8c4436605eb
size 61748898
