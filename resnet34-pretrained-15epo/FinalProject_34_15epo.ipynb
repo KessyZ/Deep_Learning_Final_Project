version https://git-lfs.github.com/spec/v1
oid sha256:c1e144e65fe968071eed6009f058a36a5fa2a34e88afff3344bfd6c794a1f9c8
size 85596666
