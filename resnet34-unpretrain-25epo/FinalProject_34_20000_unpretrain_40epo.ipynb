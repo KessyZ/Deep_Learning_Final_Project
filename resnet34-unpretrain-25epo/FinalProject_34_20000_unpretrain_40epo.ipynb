version https://git-lfs.github.com/spec/v1
oid sha256:b77d465faa46abe51f6ad189587d2e8c5709c5df4ecb7b78be2e33170ee6f8c2
size 43660648
